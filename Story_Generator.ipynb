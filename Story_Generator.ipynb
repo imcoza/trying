{
 "cells": [
  {
   "cell_type": "code",
   "execution_count": 3,
   "id": "041118db",
   "metadata": {},
   "outputs": [],
   "source": [
    "import random"
   ]
  },
  {
   "cell_type": "code",
   "execution_count": 6,
   "id": "0f616245",
   "metadata": {},
   "outputs": [
    {
     "name": "stdout",
     "output_type": "stream",
     "text": [
      "On one Friday Night,A drunken man named Crumblyhas left her home in India and school there was found a diamond bag.\n"
     ]
    }
   ],
   "source": [
    "when =['Once upon a time','In late 90s','On one Friday Night']\n",
    "who = ['A 5 year old kid','A lady','A drunken man']\n",
    "name = ['Ariyah','Fezi','Crumbly']\n",
    "recidence = ['India','America','Iraq','Iran']\n",
    "went = ['park','school','mall']\n",
    "happened =['a thuderstorm occured','a cute baby was found','found a diamond bag']\n",
    "print(random.choice(when) + ',' + random.choice(who) +' named ' + random.choice(name) + 'has left her home in ' + random.choice(recidence) + ' and ' + random.choice(went) +' there was ' + random.choice(happened) + '.' )"
   ]
  },
  {
   "cell_type": "code",
   "execution_count": 14,
   "id": "fb1691dc",
   "metadata": {},
   "outputs": [],
   "source": [
    "## How to create fake database"
   ]
  },
  {
   "cell_type": "code",
   "execution_count": 8,
   "id": "58ca05ca",
   "metadata": {},
   "outputs": [
    {
     "name": "stdout",
     "output_type": "stream",
     "text": [
      "Collecting faker\n",
      "  Downloading Faker-14.1.0-py3-none-any.whl (1.6 MB)\n",
      "Requirement already satisfied: python-dateutil>=2.4 in c:\\users\\dell\\anaconda3\\lib\\site-packages (from faker) (2.8.2)\n",
      "Requirement already satisfied: six>=1.5 in c:\\users\\dell\\anaconda3\\lib\\site-packages (from python-dateutil>=2.4->faker) (1.16.0)\n",
      "Installing collected packages: faker\n",
      "Successfully installed faker-14.1.0\n",
      "Note: you may need to restart the kernel to use updated packages.\n"
     ]
    }
   ],
   "source": [
    "pip install faker"
   ]
  },
  {
   "cell_type": "code",
   "execution_count": 9,
   "id": "11789930",
   "metadata": {},
   "outputs": [],
   "source": [
    "from faker import Faker"
   ]
  },
  {
   "cell_type": "code",
   "execution_count": 13,
   "id": "c7712680",
   "metadata": {},
   "outputs": [
    {
     "name": "stdout",
     "output_type": "stream",
     "text": [
      "Nicholas Harris\n",
      "osbornedesiree@example.net\n",
      "Christmas Island\n",
      "https://simon.com/\n"
     ]
    }
   ],
   "source": [
    "fake = Faker()\n",
    "print(fake.name())\n",
    "print(fake.email())\n",
    "print(fake.country())\n",
    "print(fake.url())\n"
   ]
  },
  {
   "cell_type": "code",
   "execution_count": 15,
   "id": "b82778ce",
   "metadata": {},
   "outputs": [],
   "source": [
    "##Extracting text from pdf"
   ]
  },
  {
   "cell_type": "code",
   "execution_count": 19,
   "id": "66bb993a",
   "metadata": {},
   "outputs": [
    {
     "name": "stdout",
     "output_type": "stream",
     "text": [
      "Collecting PyPDF2\n",
      "  Downloading PyPDF2-2.10.3-py3-none-any.whl (214 kB)\n",
      "Requirement already satisfied: typing-extensions in c:\\users\\dell\\anaconda3\\lib\\site-packages (from PyPDF2) (3.10.0.2)\n",
      "Installing collected packages: PyPDF2\n",
      "Successfully installed PyPDF2-2.10.3\n",
      "Note: you may need to restart the kernel to use updated packages.\n"
     ]
    }
   ],
   "source": [
    "pip install PyPDF2"
   ]
  },
  {
   "cell_type": "code",
   "execution_count": 27,
   "id": "d086988a",
   "metadata": {},
   "outputs": [
    {
     "name": "stdout",
     "output_type": "stream",
     "text": [
      "The number of pages :\n",
      "1\n",
      "Aug 1, 2022\n",
      "imama shehzad\n",
      "Supervised Machine Learning: Regression and\n",
      "Classification\n",
      "an online non-credit course authorized by DeepLearning.AI and Stanford University and\n",
      "offered through Courserahas successfully completed\n",
      "Andrew Ng, Instructor, DeepLearning.AI \n",
      "Eddy Shyu, Curriculum Architect, DeepLearning.AI \n",
      "Aarti Bagul and Geoff Ladwig, Curriculum Engineers, DeepLearning.AI\n",
      "Verify at: \n",
      "https://coursera.org/verify/K59PMBU86JAT   Coursera has confirmed the identity of this individual and their\n",
      "participation in the course.\n"
     ]
    }
   ],
   "source": [
    "# importing required modules \n",
    "import PyPDF2\n",
    "    \n",
    "# creating a pdf file object \n",
    "pdfFileObj = open('Coursera.pdf', 'rb') \n",
    "    \n",
    "# creating a pdf reader object \n",
    "pdfReader = PyPDF2.PdfFileReader(pdfFileObj) \n",
    "    \n",
    "# printing number of pages in pdf file \n",
    "print(\"The number of pages :\")\n",
    "print(pdfReader.numPages) \n",
    "    \n",
    "# creating a page object \n",
    "pageObj = pdfReader.getPage(0) \n",
    "    \n",
    "# extracting text from page \n",
    "print(pageObj.extractText()) \n",
    "    \n",
    "# closing the pdf file object \n",
    "pdfFileObj.close() "
   ]
  },
  {
   "cell_type": "code",
   "execution_count": 23,
   "id": "ff7f6c7f",
   "metadata": {},
   "outputs": [
    {
     "data": {
      "text/plain": [
       "'C:\\\\Users\\\\dell\\\\Desktop\\\\Python\\\\pythonProject'"
      ]
     },
     "execution_count": 23,
     "metadata": {},
     "output_type": "execute_result"
    }
   ],
   "source": [
    "pwd ## to know the current directory"
   ]
  },
  {
   "cell_type": "code",
   "execution_count": null,
   "id": "9f00c508",
   "metadata": {},
   "outputs": [],
   "source": []
  }
 ],
 "metadata": {
  "kernelspec": {
   "display_name": "Python 3 (ipykernel)",
   "language": "python",
   "name": "python3"
  },
  "language_info": {
   "codemirror_mode": {
    "name": "ipython",
    "version": 3
   },
   "file_extension": ".py",
   "mimetype": "text/x-python",
   "name": "python",
   "nbconvert_exporter": "python",
   "pygments_lexer": "ipython3",
   "version": "3.9.7"
  }
 },
 "nbformat": 4,
 "nbformat_minor": 5
}
